{
 "cells": [
  {
   "cell_type": "code",
   "execution_count": 1,
   "metadata": {},
   "outputs": [
    {
     "name": "stderr",
     "output_type": "stream",
     "text": [
      "/Share/workspace/Python/pyenv/versions/anaconda3-4.3.0/envs/py35/lib/python3.5/site-packages/h5py/__init__.py:34: FutureWarning: Conversion of the second argument of issubdtype from `float` to `np.floating` is deprecated. In future, it will be treated as `np.float64 == np.dtype(float).type`.\n",
      "  from ._conv import register_converters as _register_converters\n"
     ]
    },
    {
     "name": "stdout",
     "output_type": "stream",
     "text": [
      "Hello World\n",
      "2018/07/14 00:51:47 tensorflow VERSION=1.5.0\n"
     ]
    }
   ],
   "source": [
    "import math\n",
    "import numpy as np\n",
    "import random\n",
    "import tensorflow as tf\n",
    "from datetime import datetime\n",
    "import time\n",
    "import matplotlib.pyplot as plt\n",
    "import numpy.random as r\n",
    "import pandas as pd\n",
    "from pandas import DataFrame,Series\n",
    "import MeCab\n",
    "import zenhan\n",
    "import simplejson as json\n",
    "import re\n",
    "from bs4 import BeautifulSoup\n",
    "import psycopg2\n",
    "import urllib.request as req\n",
    "import requests as req\n",
    "import collections\n",
    "from sympy.combinatorics.graycode import GrayCode\n",
    "import shelve\n",
    "import os.path\n",
    "from itertools import chain\n",
    "from sklearn import svm \n",
    "\n",
    "%matplotlib inline\n",
    "\n",
    "__author__ = \"t2\"\n",
    "__date__ = \"2017/04/18 1:18:56\"\n",
    "if __name__ == \"__main__\":\n",
    "    print(\"Hello World\")\n",
    "\n",
    "print(datetime.now().strftime(\"%Y/%m/%d %H:%M:%S\") + \" tensorflow VERSION=\"+tf.VERSION)"
   ]
  },
  {
   "cell_type": "code",
   "execution_count": 2,
   "metadata": {},
   "outputs": [
    {
     "name": "stdout",
     "output_type": "stream",
     "text": [
      "2018/07/11 19:28:56 Fine\n"
     ]
    }
   ],
   "source": [
    "# DB\n",
    "# con.close()\n",
    "con = psycopg2.connect(\n",
    "    \"host=localhost port=5432 dbname=mydb user=t2 password=password\")\n",
    "cur = con.cursor()\n",
    "def sigmoid(x):\n",
    "    return 1.0 / (1.0 + np.exp(-x))\n",
    "def param_set(sess):\n",
    "    # 計算後パラメータを実体化\n",
    "    ww0,ww1,bb0,bb1 = sess.run(w0),sess.run(w1),sess.run(b0),sess.run(b1)\n",
    "    ww2,bb2 = [sess.run(w2),sess.run(b2)] if neural_layer == 4 else [0,0]\n",
    "    return {'ww0':ww0,'ww1':ww1,'ww2':ww2,'bb0':bb0,'bb1':bb1,'bb2':bb2,'idx0':0}\n",
    "\n",
    "def res_set(params,dat):\n",
    "    # 計算後パラメータを実体化\n",
    "    ww0,ww1,bb0,bb1 = params['ww0'],params['ww1'],params['bb0'],params['bb1']\n",
    "    ww2,bb2 = [params['ww2'],params['bb2']] if neural_layer == 4 else [0,0]\n",
    "    if neural_layer == 4:\n",
    "        res = [sigmoid(np.dot(np.tanh(np.dot(np.tanh(np.dot(dat[idx],ww2)+bb2),ww1)+bb1),ww0)+bb0) for idx in range(len(dat))]\n",
    "    else:\n",
    "        res = [sigmoid(               np.dot(np.tanh(np.dot(dat[idx],ww0)+bb0),ww1)+bb1)            for idx in range(len(dat))]\n",
    "    return res\n",
    "gray_code_list14 = [[int(ss) for ss in rec] for rec in GrayCode(14).generate_gray()]\n",
    "gray_code_list07 = [[int(ss) for ss in rec] for rec in GrayCode( 7).generate_gray()]\n",
    "bits_code_list14 = [[int(ss) for ss in '0' * (14 - len(format(num,'b')) ) + format(num,'b') ] for num in range(10000)]\n",
    "bits_code_list07 = [[int(ss) for ss in '0' * ( 7 - len(format(num,'b')) ) + format(num,'b') ] for num in range(  128)]\n",
    "print(datetime.now().strftime(\"%Y/%m/%d %H:%M:%S\"),'Fine')"
   ]
  },
  {
   "cell_type": "code",
   "execution_count": 4,
   "metadata": {
    "scrolled": true
   },
   "outputs": [
    {
     "name": "stdout",
     "output_type": "stream",
     "text": [
      "2018/07/11 19:31:11\n",
      "2018/07/11 19:32:01 Fine  13948\n"
     ]
    }
   ],
   "source": [
    "print(datetime.now().strftime(\"%Y/%m/%d %H:%M:%S\"))\n",
    "# cur.execute(\"SELECT race_id,a.odds1,a.ninki1 FROM odds_list_3t a LEFT OUTER JOIN ( SELECT * FROM odds_list_3t WHERE atari ='1' ) b USING(race_id) WHERE b.ninki1 - a.ninki1 + 1 <= a.odds1-1 AND a.ninki1<=b.ninki1 ORDER BY race_id,a.ninki1\")\n",
    "# 三連単用の組版一覧\n",
    "r16 = range(1,7)\n",
    "kumiban_all = ['%d-%d-%d' % (i0,i1,i2) for i0 in r16 for i1 in r16 if i1 != i0 for i2 in r16 if i2 not in [i0,i1] ]\n",
    "N_ = len(kumiban_all)\n",
    "cur.execute(\"SELECT ninki1,min,max,log FROM odds_list_base00 ORDER BY ninki1\")\n",
    "logBase00 = [{'min0':float(min0),'max0':float(max0),'log0':float(log0)} for [ninki1,min0,max0,log0] in cur]\n",
    "\n",
    "gray_code=GrayCode(10)\n",
    "gray_code_list=[]\n",
    "for rec in gray_code.generate_gray():\n",
    "    gray_code_list.append(rec)\n",
    "\n",
    "kagen,jougen= 10.00, 12.59\n",
    "# kagen,jougen=  7.94, 15.84\n",
    "# kagen,jougen= 39.79, 50.10\n",
    "# kagen,jougen=100.00,125.89\n",
    "# kagen,jougen=250.99,315.95\n",
    "\n",
    "# cur.execute(\"SELECT race_id FROM odds_list_target a WHERE atari=1 ORDER BY race_id \")\n",
    "cur.execute(\"SELECT race_id,COUNT(*) AS c,MAX(atari) AS a,SUM(CASE WHEN odds1 BETWEEN %s AND %s THEN 1 ELSE 0 END) AS t FROM odds_list_target a GROUP BY race_id ORDER BY race_id \",[kagen, jougen])\n",
    "race_mas = { race_id: {'race_id':race_id, 'count_all':c, 'count_atari':a, 'count_target':t} for [race_id,c,a,t] in cur}\n",
    "# 対象分の抽出（120枠全部があって、かつ有効、かつレンジに入る倍率がある場合）\n",
    "iDat = { race_id: [ 0 for _ in range(N_)] for race_id \n",
    "        in filter(lambda x:\n",
    "                  race_mas[x]['count_all']==N_ \n",
    "                  and race_mas[x]['count_atari']>0 \n",
    "                  and race_mas[x]['count_target']>0\n",
    "                  , race_mas)}\n",
    "oDat = {}\n",
    "\n",
    "# 期待値\n",
    "befId=''\n",
    "ninkiCnt = 0\n",
    "cur.execute(\"SELECT race_id,kumiban,ninki1,odds1,atari FROM odds_list_target ORDER BY race_id,ninki1,kumiban\")\n",
    "for [race_id, kumiban, ninki1, odds1, atari] in filter(lambda x:x[0] in iDat ,cur):\n",
    "    if befId != race_id:\n",
    "        befId=race_id\n",
    "        ninkiCnt = 0\n",
    "    log0 = max(math.log(float(odds1),logBase00[ninkiCnt]['min0']),0)/logBase00[ninkiCnt]['log0']\n",
    "    # log0：比率？、log999：log1000の値？\n",
    "#     iDat[race_id][ninkiCnt] = {'kumiban':kumiban,'log0':log0,'log999':math.log(1000./(float(odds1)-1),1000)}\n",
    "    iDat[race_id][ninkiCnt] = {\n",
    "        'kumiban': kumiban,\n",
    "        'log0': log0,\n",
    "        'log999': math.log(1000./(float(odds1)-1),1000),\n",
    "        'gks': 1./(float(odds1)-1),\n",
    "        'odds1_gray': gray_code_list14[np.int(math.floor(odds1 * 10))],\n",
    "        'odds1_bits': bits_code_list14[np.int(math.floor(odds1 * 10))],\n",
    "        'ninki1_gray': gray_code_list07[np.int(ninki1)],\n",
    "        'ninki1_bits': bits_code_list07[np.int(ninki1)],\n",
    "    }\n",
    "#     iDat[race_id][ninkiCnt] = {'kumiban':kumiban,'log0':log0,'log999':float(odds1)}\n",
    "    # グレイコードの場合はこの三行を追加\n",
    "#     log0 = min(log0/(logBase00[ninkiCnt]['log']-1),1)\n",
    "#     log0 = math.floor(log0 * 1023)\n",
    "#     iDat[race_id][ninkiCnt] = {'kumiban':kumiban,'value':list(gray_code_list[log0])}\n",
    "    ninkiCnt += 1\n",
    "    if atari == 1:\n",
    "        # ハズレの場合を1、当たりの場合を0にする。ハズレのときにmisfitを上げるようにしたいので、当たりのときのmisfitは常に0になるように。\n",
    "        # ⇛やっぱ戻した\n",
    "        oDat[race_id] = [1 if kagen <= odds1 and odds1 <= jougen else 0]\n",
    "print(datetime.now().strftime(\"%Y/%m/%d %H:%M:%S\"),'Fine ',len(iDat))"
   ]
  },
  {
   "cell_type": "code",
   "execution_count": 23,
   "metadata": {
    "scrolled": true
   },
   "outputs": [
    {
     "name": "stdout",
     "output_type": "stream",
     "text": [
      "2018/07/11 20:48:00 Start 13948\n",
      "2018/07/11 20:48:01 Fine  13948\n",
      "240 [[0.6771723504820216, 0.6666666666666667, 0.6476983828878424, 0.610894221750608, 0.5873179656237348, 0.5699884628791607, 0.5399295860961314, 0.5311532731886817, 0.5181319322421342, 0.49648499659779594, 0.4933906687414271, 0.48781385247615666, 0.4812324997442376, 0.47188959187748974, 0.4678009681245133, 0.4371933926657631, 0.4299608782960613, 0.4233419047668148, 0.4212011659077859, 0.4172706576645999, 0.41119571762920015, 0.4053654735757551, 0.39525080142269325, 0.38959010204431227, 0.38895096269573826, 0.3835268620677002, 0.38230349004937814, 0.37751083738031616, 0.37672726400689066, 0.37555979939486706, 0.3700460929139372, 0.35550423738376485, 0.3477838069315989, 0.3466683872238613, 0.3399988761387512, 0.3395448303071519, 0.3395448303071519, 0.3227292428898766, 0.3227292428898766, 0.31979921996197563, 0.3097411790521884, 0.3077865187765528, 0.3024264517719669, 0.29907446170551955, 0.293361529914003, 0.2904259052205244, 0.2904259052205244, 0.28597451297557175, 0.2828767165841799, 0.271580411567805, 0.2664743577483839, 0.2664743577483839, 0.26475148635244594, 0.26031322251704625, 0.26031322251704625, 0.25381737077289074, 0.25290087096333563, 0.24808173778565196, 0.24608715088248742, 0.24202440663315813, 0.23140628291500592, 0.23026527344319747, 0.22231865672550427, 0.21873255561278168, 0.2113169300665882, 0.20485749506495649, 0.1952875459385078, 0.19389956956008486, 0.1924700533828393, 0.19100034708115426, 0.18355863563375774, 0.18355863563375774, 0.18355863563375774, 0.18202346931409044, 0.1789014633459991, 0.1789014633459991, 0.1789014633459991, 0.16040764369107505, 0.1585779104110071, 0.15677101540902785, 0.15677101540902785, 0.15115244550728965, 0.1371307317524378, 0.126205323839449, 0.11924446036577549, 0.11924446036577549, 0.11682347801739368, 0.11441040691132778, 0.11191139995077498, 0.10939314660558369, 0.10939314660558369, 0.10682708543473686, 0.10682708543473686, 0.10421647681399086, 0.10421647681399086, 0.10421647681399086, 0.09884555270556895, 0.09038647722000955, 0.08746994457142614, 0.08746994457142614, 0.08746994457142614, 0.08142585169884732, 0.07828440329732493, 0.07184178541249454, 0.06850398444694347, 0.06850398444694347, 0.06850398444694347, 0.06510516169768656, 0.06160695662019381, 0.058018285598717335, 0.04673381750647811, 0.04275066033604283, 0.03014799025294157, 0.006332436686200091, 0.0010606593734948232, 0.0010606593734948232, 0.0010606593734948232, 0.00028981957087628117, 0.00028981957087628117, 0.00028981957087628117, 0.6476983828878424, 0.5699884628791607, 0.4371933926657631, 0.5399295860961314, 0.6666666666666667, 0.6771723504820216, 0.48781385247615666, 0.610894221750608, 0.5311532731886817, 0.5873179656237348, 0.3700460929139372, 0.49648499659779594, 0.3024264517719669, 0.3477838069315989, 0.2664743577483839, 0.3097411790521884, 0.39525080142269325, 0.4233419047668148, 0.38895096269573826, 0.25381737077289074, 0.4678009681245133, 0.4172706576645999, 0.2904259052205244, 0.4212011659077859, 0.38230349004937814, 0.3395448303071519, 0.19100034708115426, 0.3395448303071519, 0.293361529914003, 0.26031322251704625, 0.09884555270556895, 0.22231865672550427, 0.15677101540902785, 0.11682347801739368, 0.03014799025294157, 0.06160695662019381, 0.23140628291500592, 0.18202346931409044, 0.11924446036577549, 0.07184178541249454, 0.4299608782960613, 0.5181319322421342, 0.35550423738376485, 0.4933906687414271, 0.37555979939486706, 0.3466683872238613, 0.26475148635244594, 0.3227292428898766, 0.4812324997442376, 0.37751083738031616, 0.3399988761387512, 0.47188959187748974, 0.21873255561278168, 0.18355863563375774, 0.24202440663315813, 0.2828767165841799, 0.37672726400689066, 0.271580411567805, 0.38959010204431227, 0.28597451297557175, 0.2904259052205244, 0.4053654735757551, 0.20485749506495649, 0.3227292428898766, 0.23026527344319747, 0.2113169300665882, 0.08746994457142614, 0.16040764369107505, 0.41119571762920015, 0.2664743577483839, 0.25290087096333563, 0.3835268620677002, 0.10939314660558369, 0.06510516169768656, 0.11441040691132778, 0.18355863563375774, 0.26031322251704625, 0.19389956956008486, 0.31979921996197563, 0.1789014633459991, 0.15677101540902785, 0.18355863563375774, 0.126205323839449, 0.08746994457142614, 0.09038647722000955, 0.006332436686200091, 0.00028981957087628117, 0.0010606593734948232, 0.11924446036577549, 0.00028981957087628117, 0.1371307317524378, 0.1789014633459991, 0.0010606593734948232, 0.00028981957087628117, 0.06850398444694347, 0.06850398444694347, 0.10682708543473686, 0.0010606593734948232, 0.10421647681399086, 0.08746994457142614, 0.1924700533828393, 0.3077865187765528, 0.1952875459385078, 0.10421647681399086, 0.15115244550728965, 0.10421647681399086, 0.10939314660558369, 0.058018285598717335, 0.24808173778565196, 0.11191139995077498, 0.29907446170551955, 0.1789014633459991, 0.1585779104110071, 0.07828440329732493, 0.24608715088248742, 0.10682708543473686, 0.04673381750647811, 0.04275066033604283, 0.08142585169884732, 0.06850398444694347], [1]]\n"
     ]
    }
   ],
   "source": [
    "print(datetime.now().strftime(\"%Y/%m/%d %H:%M:%S\"),'Start',len(iDat))\n",
    "iDatF={}\n",
    "for race_id in iDat:\n",
    "    [race_ymd, jcd, race_no] = race_id.split('-')\n",
    "    iDatF[race_id] = {}\n",
    "    iDatF[race_id]['frmd'] = []\n",
    "#     sub_single = [ 0 for i in range(N_) for j in range(N_)]\n",
    "#     sub_counter = 0\n",
    "#     for obj in iDat[race_id]:\n",
    "#         sub_single[kumiban_all.index(obj['kumiban']) + sub_counter * N_] = 1\n",
    "#         sub_counter += 1\n",
    "#     iDatF[race_id]['frmd'] += sub_single\n",
    "    iDatF[race_id]['frmd'] += [ obj['log999'] for obj in iDat[race_id] ]\n",
    "    iDatF[race_id]['frmd'] += [ obj['log999'] for obj in sorted(iDat[race_id],key=lambda x:x['kumiban'])]\n",
    "#     for obj in iDat[race_id]:\n",
    "#         iDatF[race_id]['frmd'] += obj['odds1_gray']\n",
    "#         iDatF[race_id]['frmd'] += obj['odds1_bits']\n",
    "#         iDatF[race_id]['frmd'] += obj['ninki1_gray']\n",
    "#         iDatF[race_id]['frmd'] += obj['ninki1_gray']\n",
    "#     for obj in sorted(iDat[race_id],key=lambda x:x['kumiban']):\n",
    "# #         iDatF[race_id]['frmd'] += obj['odds1_gray']\n",
    "# #         iDatF[race_id]['frmd'] += obj['odds1_bits']\n",
    "#         iDatF[race_id]['frmd'] += obj['ninki1_gray']\n",
    "# #         iDatF[race_id]['frmd'] += obj['ninki1_gray']\n",
    "#     iDatF[race_id]['frmd'] += [ obj['gks'] for obj in iDat[race_id] ]\n",
    "#     iDatF[race_id]['frmd'] += [ obj['gks'] for obj in sorted(iDat[race_id],key=lambda x:x['kumiban'])]\n",
    "#     iDatF[race_id]['frmd'] += [ 1 if int(race_no)==idx0 else 0 for idx0 in range(1,13)]\n",
    "#     iDatF[race_id]['frmd'] += [ 1 if int(jcd)==idx0 else 0 for idx0 in range(1,24)]\n",
    "\n",
    "# 組版でソートしたものと人気順でソートしたものを繋げて一つの入力にする。\n",
    "# datAll = {race_id:[list(map(float,list(chain.from_iterable([obj['value'] for obj in iDat[race_id]]+[obj['value'] for obj in sorted(iDat[race_id],key=lambda x:x['kumiban'])])))),oDat[race_id]] for race_id in iDat}\n",
    "# datAll = {race_id:[[obj['log0'] for obj in iDat[race_id]]+[obj['log999'] for obj in sorted(iDat[race_id],key=lambda x:x['kumiban'])]+iDat[race_id],oDat[race_id]] for race_id in iDat}\n",
    "datAll = {race_id:[iDatF[race_id]['frmd'],oDat[race_id]] for race_id in iDat}\n",
    "# math.pow(min,val*log)\n",
    "print(datetime.now().strftime(\"%Y/%m/%d %H:%M:%S\"),'Fine ',len(datAll),)\n",
    "print(len(datAll['20171204-22-03'][0]),datAll['20171204-22-03'])\n",
    "# print(datAll['20170901-15-04'])"
   ]
  },
  {
   "cell_type": "code",
   "execution_count": 24,
   "metadata": {},
   "outputs": [
    {
     "name": "stdout",
     "output_type": "stream",
     "text": [
      "13948\n"
     ]
    }
   ],
   "source": [
    "label=[]\n",
    "datI=[]\n",
    "datO=[]\n",
    "for race_id in sorted(datAll, reverse=True):\n",
    "    label.append(race_id)\n",
    "#     datI.append([ math.log(odds1,999) if odds1 != 0 else 0 for odds1 in datAll[race_id][0]])\n",
    "    datI.append(datAll[race_id][0])\n",
    "    [ymd,jcd,rno] = race_id.split('-')\n",
    "#     datI[len(datI)-1].extend([1 if idx==int(jcd) else 0 for idx in range(1,25)]);\n",
    "#     datI[len(datI)-1].extend([1 if idx==int(rno) else 0 for idx in range(1,13)]);\n",
    "#     datO.append([(odds1 + N_)/(999.+N_) for odds1 in datAll[race_id][1]])\n",
    "    datO.append(datAll[race_id][1])\n",
    "print(len(datI))\n",
    "# print(datI[1])"
   ]
  },
  {
   "cell_type": "code",
   "execution_count": 30,
   "metadata": {},
   "outputs": [
    {
     "name": "stdout",
     "output_type": "stream",
     "text": [
      "2018/07/11 20:56:03 Fine  nData=12554 nTest=1394 nIn=240 nOut=1\n"
     ]
    }
   ],
   "source": [
    "# 多層ニューラル\n",
    "nTest = int(len(datI)/10)\n",
    "nData = len(datI) - nTest\n",
    "dInSet  = datI[nTest:] # 入力データ\n",
    "dOutSet = datO[nTest:] # 出力データ\n",
    "tInSet  = datI[:nTest] # テスト用入力データ\n",
    "tOutSet = datO[:nTest] # テスト用出力データ\n",
    "tLabel = label[:nTest]\n",
    "nIn  = len(datI[0])    # 入力データ次元数\n",
    "nOut = len(datO[0])    # 出力データ次元数\n",
    "mult = np.array(dInSet).flatten().mean()\n",
    "\n",
    "# ハイパーパラメータ\n",
    "nMid = [nIn,2000,300,nOut]       # 中間層は好きに設定すれば良い\n",
    "nokosu_hiritsu = 1.0        # ドロップアウト層で生き残らせる比率。（ドロップアウト率の逆数）\n",
    "rSeed = 201802711            # 乱数シード\n",
    "act_func = tf.nn.relu    # 活性関数（sigmoid／tanh／relu）\n",
    "\n",
    "neural_layer = len(nMid)\n",
    "np.random.seed(rSeed)\n",
    "dIn  = tf.placeholder(tf.float32,[None,nIn ],name=\"input\")\n",
    "dOut = tf.placeholder(tf.float32,[None,nOut],name=\"output\")\n",
    "out = dIn\n",
    "for n in range(neural_layer-1):\n",
    "    # w = tf.Variable(tf.zeros([nMid[n], nMid[n+1]]))\n",
    "    # b = tf.Variable(tf.zeros([n+1]))\n",
    "    w = tf.Variable(tf.truncated_normal([nMid[n], nMid[n+1]],seed=np.random.randint(rSeed)))\n",
    "    b = tf.Variable(tf.truncated_normal([nMid[n+1]],seed=np.random.randint(rSeed)))\n",
    "    out = act_func(tf.matmul(out, w) + b )\n",
    "p = out\n",
    "# loss = -tf.reduce_sum(dOut*tf.log(p)+(1-dOut)*tf.log(1-p))\n",
    "# loss = -tf.reduce_sum(                                               dOut*tf.log(p)+(1-dOut)*tf.log(1-p))\n",
    "# loss = -tf.reduce_sum((0-dOut) if p == 0 else ((dOut-1) if p==1 else (dOut*tf.log(p)+(1-dOut)*tf.log(1-p)))\n",
    "# loss = -tf.reduce_sum(tf.nn.dropout((0-dOut) if tf.argmax(p,0)==0 else ((dOut-1) if tf.argmin(p,1)==1 else (dOut * tf.log(p) + (1-dOut) * tf.log(1-p) )),nokosu_hiritsu))\n",
    "# loss = tf.reduce_mean(tf.nn.softmax_cross_entropy_with_logits(labels=dOutSet, logits=dInSet))\n",
    "loss = -tf.reduce_sum(tf.nn.dropout(dOut*tf.log(tf.clip_by_value(p,1e-10,1.0))+(1-dOut)*tf.log(tf.clip_by_value(1-p,1e-10,1.0)),nokosu_hiritsu))\n",
    "# loss = -tf.reduce_sum(dOut*((dOut-0) if p == 0 else ((1-dOut) if p==1 else( dOut*tf.log(p)+(1-dOut)*tf.log(1-p)))))\n",
    "# loss = -tf.reduce_sum(dOut*(dOut*tf.log(tf.clip_by_value(p,1e-10,1.0))+(1-dOut)*tf.log(tf.clip_by_value(1-p,1e-10,1.0))))\n",
    "# loss = -tf.reduce_sum(dOut*tf.log(tf.clip_by_value(p,1e-10,1.0))+(1-dOut)*tf.log(tf.clip_by_value(1-p,1e-10,1.0)))\n",
    "# loss = tf.reduce_sum(tf.square(dOut-tf.nn.tanh(tf.matmul(tf.nn.tanh(tf.matmul(dIn,w0)+b0),w1)+b1)))\n",
    "train_step = tf.train.AdamOptimizer().minimize(loss)\n",
    "# train_step = tf.train.GradientDescentOptimizer(0.001).minimize(loss)\n",
    "correct_prediction = tf.equal(tf.sign(p-0.5),tf.sign(dOut-0.5))\n",
    "accuracy=tf.reduce_mean(tf.cast(correct_prediction,tf.float32))\n",
    "\n",
    "sess = tf.Session()\n",
    "sess.run(tf.global_variables_initializer())\n",
    "[loss_val,test_val,params]  = [[],[],[]]\n",
    "print(datetime.now().strftime(\"%Y/%m/%d %H:%M:%S\") , 'Fine ', 'nData=%d nTest=%d nIn=%d nOut=%d'%(nData, nTest, nIn, nOut ))\n",
    "i = 0"
   ]
  },
  {
   "cell_type": "code",
   "execution_count": 3,
   "metadata": {},
   "outputs": [
    {
     "ename": "NameError",
     "evalue": "name 'dOutSet' is not defined",
     "output_type": "error",
     "traceback": [
      "\u001b[0;31m---------------------------------------------------------------------------\u001b[0m",
      "\u001b[0;31mNameError\u001b[0m                                 Traceback (most recent call last)",
      "\u001b[0;32m<ipython-input-3-436212644073>\u001b[0m in \u001b[0;36m<module>\u001b[0;34m()\u001b[0m\n\u001b[0;32m----> 1\u001b[0;31m \u001b[0mprint\u001b[0m\u001b[0;34m(\u001b[0m\u001b[0mlen\u001b[0m\u001b[0;34m(\u001b[0m\u001b[0mdOutSet\u001b[0m\u001b[0;34m)\u001b[0m\u001b[0;34m)\u001b[0m\u001b[0;34m\u001b[0m\u001b[0m\n\u001b[0m",
      "\u001b[0;31mNameError\u001b[0m: name 'dOutSet' is not defined"
     ]
    }
   ],
   "source": [
    "print(len(dOutSet))"
   ]
  },
  {
   "cell_type": "code",
   "execution_count": null,
   "metadata": {
    "scrolled": false
   },
   "outputs": [
    {
     "name": "stdout",
     "output_type": "stream",
     "text": [
      "2018/07/11 20:56:05 Start\n",
      "2018/07/11 20:56:11  Step: 0, Loss: 20.352685, Test: 20.234360\n",
      "2018/07/11 20:56:56  Step: 10, Loss: 20.352685, Test: 20.234360\n",
      "2018/07/11 20:57:42  Step: 20, Loss: 20.352685, Test: 20.234360\n",
      "2018/07/11 20:58:28  Step: 30, Loss: 20.352685, Test: 20.234360\n"
     ]
    }
   ],
   "source": [
    "# ニューラル\n",
    "nCycle = 1000\n",
    "nDelta = 10\n",
    "# 800\n",
    "print(datetime.now().strftime(\"%Y/%m/%d %H:%M:%S\"), 'Start')\n",
    "# 入力データを何分割してバッチ化するか（なので正確にはバッチサイズではない。deltaSizeがバッチサイズ）\n",
    "batch_size = 512\n",
    "deltaSize = int(nData / batch_size)\n",
    "for _ in range(nCycle):\n",
    "    sff_idx = np.random.permutation(nData)\n",
    "    mf=[]\n",
    "    for bIdx in range(0,nData,deltaSize):\n",
    "        dInSub  = [ dInSet [rIdx] for rIdx in sff_idx[bIdx: bIdx + deltaSize if bIdx + deltaSize < nData else nData]]\n",
    "        dOutSub = [ dOutSet[rIdx] for rIdx in sff_idx[bIdx: bIdx + deltaSize if bIdx + deltaSize < nData else nData]]\n",
    "        sess.run(train_step, feed_dict={dIn:dInSub, dOut:dOutSub})\n",
    "        if i % nDelta == 0:\n",
    "            mf.append(sess.run(loss, feed_dict={dIn:dInSub, dOut:dOutSub}) / deltaSize)\n",
    "            if bIdx+deltaSize >= nData:\n",
    "                loss_val.append([i/nDelta,np.mean(mf)])\n",
    "                test_val.append([i/nDelta,sess.run(loss, feed_dict={dIn:tInSet, dOut:tOutSet}) / nTest])\n",
    "#                 params.append({'step_no':i, 'loss':loss_val[-1][1], 'test':test_val[-1][1], 'param':param_set(sess)})\n",
    "                params.append({'step_no':i, 'loss':loss_val[-1][1], 'test':test_val[-1][1]})\n",
    "                print(datetime.now().strftime(\"%Y/%m/%d %H:%M:%S\") + '  Step: %d, Loss: %f, Test: %f' % (i, loss_val[-1][1],  test_val[-1][1]))\n",
    "    i += 1\n",
    "# loss_val.append([i/nDelta,np.mean(mf)])\n",
    "test_val.append([i/nDelta,sess.run(loss, feed_dict={dIn:tInSet, dOut:tOutSet}) / nTest])\n",
    "params.append({'step_no':i, 'loss':loss_val[-1][1], 'test':test_val[-1][1]})\n",
    "# params.append({'step_no':i, 'loss':loss_val[-1][1], 'test':test_val[-1][1], 'param':param_set(sess)})\n",
    "params.append(param_set(sess))\n",
    "print(datetime.now().strftime(\"%Y/%m/%d %H:%M:%S\") , ' Step: %d, Loss: %f, Test: %f' % (i, loss_val[-1][1],  test_val[-1][1]))\n",
    "print(datetime.now().strftime(\"%Y/%m/%d %H:%M:%S\") , ' End ')"
   ]
  },
  {
   "cell_type": "code",
   "execution_count": 11,
   "metadata": {},
   "outputs": [
    {
     "data": {
      "text/plain": [
       "[<matplotlib.lines.Line2D at 0x7fe0a97f4400>]"
      ]
     },
     "execution_count": 11,
     "metadata": {},
     "output_type": "execute_result"
    },
    {
     "data": {
      "image/png": "[encoded data removed]",
      "text/plain": [
       "<matplotlib.figure.Figure at 0x7fe0a97f4390>"
      ]
     },
     "metadata": {},
     "output_type": "display_data"
    }
   ],
   "source": [
    "[ld,lt] =[ np.array(loss_val).T , np.array(test_val).T ]\n",
    "plt.yscale(\"log\")\n",
    "plt.xscale(\"linear\")\n",
    "plt.plot(ld[0][1:],ld[1][1:],c='blue')\n",
    "plt.plot(lt[0][1:],lt[1][1:],c='orange')"
   ]
  },
  {
   "cell_type": "code",
   "execution_count": null,
   "metadata": {
    "collapsed": true,
    "scrolled": true
   },
   "outputs": [],
   "source": [
    "# graphDat = [sigmoid(np.dot(np.tanh(np.dot(np.tanh(np.dot(tInSet[idx],ww2)+bb2),ww1)+bb1),ww0)+bb0) for idx in range(len(tInSet))]\n",
    "def res_set(params,dat):\n",
    "    # 計算後パラメータを実体化\n",
    "    ww0, ww1, bb0, bb1 = params['ww0'], params['ww1'], params['bb0'], params['bb1']\n",
    "    return  [sigmoid(np.dot(sigmoid(np.dot(dat[idx],ww0)+bb0),ww1)+bb1) for idx in range(len(dat))]\n",
    "\n",
    "graphDat = res_set(params[-1]['param'],tInSet)\n",
    "print('ans_len =',len(params))\n",
    "tLabel = label[:nTest]\n",
    "\n",
    "decoboco=[]\n",
    "a_list=[[],[]]\n",
    "m_list=[[],[]]\n",
    "kau_all, kachi_all, race_all, kachi_race_all = 0, 0, 0, 0\n",
    "\n",
    "for idx0 in range(len(graphDat)):\n",
    "    cur.execute(\"SELECT a.odds1,COALESCE(b.cnt,0) FROM (SELECT race_id,odds1 FROM odds_list_target WHERE atari=1 AND race_id=%s) a LEFT OUTER JOIN (SELECT race_id,COUNT(*) AS cnt FROM odds_list_target WHERE race_id=%s AND odds1 BETWEEN %s AND %s GROUP BY race_id) b ON a.race_id=b.race_id\",[tLabel[idx0],tLabel[idx0],kagen,jougen])\n",
    "    [odds1,kau]=cur.fetchone()\n",
    "    if graphDat[idx0] > 0.095:\n",
    "        flg = 0 if (kagen <= odds1 and odds1 <= jougen) else 1\n",
    "        a_list[flg].append([tLabel[idx0], kau,graphDat[idx0][0], float(odds1)])\n",
    "        m_list[flg].append(graphDat[idx0])\n",
    "        kachi_all += odds1 if flg==0 else 0\n",
    "        kau_all += kau if kau is not None else 0\n",
    "        kachi_race_all += 1 if flg==0 else 0\n",
    "        race_all += 1\n",
    "        decoboco.append(kachi_all - kau_all)\n",
    "print('RaceAll=%d TargetRace=%d KachiRace=%d Kau=%d Kachi=%d rate=%f' % (len(tLabel),race_all,kachi_race_all,kau_all,kachi_all,(kachi_all/kau_all)))\n",
    "plt.plot(decoboco,c='red')\n",
    "for idx0 in range(len(a_list)):\n",
    "    print(np.mean(m_list[idx0]),len(m_list[idx0]),np.std(m_list[idx0]))\n",
    "for idx0 in range(len(a_list)):\n",
    "    for rec in a_list[idx0]:\n",
    "        print(['◯','  '][idx0],rec)\n",
    "# 2143 65 14 86 155.9"
   ]
  },
  {
   "cell_type": "code",
   "execution_count": null,
   "metadata": {
    "collapsed": true,
    "scrolled": false
   },
   "outputs": [],
   "source": [
    "# bk = res\n",
    "graphDat = res\n",
    "plt.figure(figsize=(20,15))\n",
    "[sS,nS]=[328,20]\n",
    "for idx in range(sS,sS+nS):\n",
    "#     print(int(nS/2),2,idx-sS+1)\n",
    "    plt.subplot(int(nS/2),2,idx-sS+1)\n",
    "    cur.execute(\"SELECT race_id,odds1,ninki1 FROM odds_list_3t WHERE race_id='%s' AND atari='1'\" % (tLabel[idx]))\n",
    "    [race_id,odds1,ninki1] = cur.fetchone()\n",
    "    odds1 = float(odds1)\n",
    "    print(race_id,ninki1,odds1,math.log(odds1,1000))\n",
    "    atari=[0 for _ in range(rate)]\n",
    "    atari[math.floor(math.log(odds1,1000)*rate)] = 0.1\n",
    "    lim=[0.1 for _ in range(rate)]\n",
    "    plt.plot(graphDat[idx])\n",
    "    plt.plot(atari)\n",
    "    plt.plot(lim)\n",
    "    plt.ylim(0,0.12)\n"
   ]
  },
  {
   "cell_type": "code",
   "execution_count": null,
   "metadata": {
    "collapsed": true
   },
   "outputs": [],
   "source": [
    "graphDat = [sigmoid(np.dot(np.tanh(np.dot(rec,ww0)+bb0),ww1)+bb1) for rec in dInSet]\n",
    "tLabel = label[nTest:]\n",
    "kane=0\n",
    "cnt=0\n",
    "cntKachi=0\n",
    "atariRace=0\n",
    "kauGoukei=0\n",
    "hensen=[]\n",
    "puramai=[]\n",
    "kakeme=1000\n",
    "cntMap={ idx:0 for idx in range(rate)}\n",
    "sakaime=15\n",
    "sakaime2=20\n",
    "# plt.figure(figsize=(20,60))\n",
    "dayCnt={race_id.split('-')[0]:0 for race_id in tLabel}\n",
    "for idx0 in range(len(graphDat)):\n",
    "    threashold=0.117\n",
    "    isKau=[]\n",
    "    for idx1 in range(len(graphDat[idx0])):\n",
    "        if   graphDat[idx0][idx1] > threashold and idx1 < sakaime:\n",
    "#             break\n",
    "            continue\n",
    "        elif graphDat[idx0][idx1] > threashold and idx1 >= sakaime:\n",
    "            isKau.append(idx1)\n",
    "#         elif graphDat[idx0][idx1] > 0.086 and idx1 >= sakaime2:\n",
    "#             isKau.append(idx1)\n",
    "    \n",
    "    if graphDat[idx0].tolist().index(max(graphDat[idx0]))>=15 and len(isKau)>0:\n",
    "#     if len(isKau)>0:\n",
    "        cnt=cnt+1\n",
    "        atariFlg=False\n",
    "        dayCnt[tLabel[idx0].split('-')[0]] += 1\n",
    "#         cur.execute(\"SELECT odds1 FROM odds_list_3t WHERE race_id='%s' AND atari=1\" % (tLabel[idx0]))\n",
    "#         print(isKau,cur.fetchone()[0])\n",
    "        isKau.append(max(isKau)+1)\n",
    "        for idx1 in isKau:\n",
    "            cur.execute(\"SELECT COUNT(*),MIN(ninki1),MAX(ninki1),MAX(atari) FROM odds_list_3t WHERE race_id='%s' AND odds1 BETWEEN %f AND %f\" % (tLabel[idx0],math.pow(1000,(idx1+0)/float(rate)),math.pow(1000,(idx1+1)/float(rate))))\n",
    "            [kau,ninki1_min,ninki1_max,atari]=cur.fetchone()\n",
    "            kauGoukei = kauGoukei + kau\n",
    "            kane = kane - ( kakeme * kau )\n",
    "#             plt.plot(graphDat[idx0])\n",
    "            if atari is not None and atari > 0:\n",
    "                atariFlg=True\n",
    "                cntKachi = cntKachi + 1\n",
    "                cur.execute(\"SELECT odds1 FROM odds_list_3t WHERE race_id='%s' AND atari=1\" % (tLabel[idx0]))\n",
    "                [odds1]=cur.fetchone()\n",
    "                kane = kane + ( kakeme * odds1 )\n",
    "                puramai.append( kakeme * odds1 )\n",
    "            else:\n",
    "                puramai.append(-kakeme * kau )\n",
    "            hensen.append(kane)\n",
    "            cntMap[idx1] = cntMap[idx1] + 1\n",
    "        if atariFlg:\n",
    "            atariRace+=1\n",
    "print([{race_id:dayCnt[race_id]} for race_id in sorted(dayCnt)])\n",
    "plt.plot(hensen,marker='o')\n",
    "print(cntMap)\n",
    "print(len(graphDat),cnt,atariRace,cntKachi,kauGoukei,kane,(kane/(kauGoukei*kakeme)))"
   ]
  },
  {
   "cell_type": "code",
   "execution_count": null,
   "metadata": {
    "collapsed": true
   },
   "outputs": [],
   "source": [
    "print([[_,math.floor(math.log(_,1000)*rate)] for _ in range(1,1000)])"
   ]
  },
  {
   "cell_type": "code",
   "execution_count": null,
   "metadata": {
    "collapsed": true
   },
   "outputs": [],
   "source": [
    "graphDat = [sigmoid(np.dot(np.tanh(np.dot(rec,ww0)+bb0),ww1)+bb1) for rec in tInSet]\n",
    "tLabel = label[:nTest]\n",
    "[kane,haitou,kauCnt,atariCnt]=[0,0,0,0]\n",
    "pl=[]\n",
    "for idx0 in range(len(graphDat)):\n",
    "    cur.execute(\"SELECT COUNT(*), MAX(atari) FROM odds_list_3t WHERE race_id='%s' AND odds1 BETWEEN %f AND %f\" % (tLabel[idx0],kagen,jougen))\n",
    "    [cnt,atari] = cur.fetchone()\n",
    "    if 0.1201 < graphDat[idx0]:\n",
    "        kauCnt += 1\n",
    "        kane = kane + cnt\n",
    "        if atari is not None and atari >0 :\n",
    "            cur.execute(\"SELECT odds1 FROM odds_list_3t WHERE race_id='%s' AND atari=1 AND odds1 BETWEEN %f AND %f\" % (tLabel[idx0],kagen,jougen))\n",
    "            [odds1] = cur.fetchone()\n",
    "            haitou = haitou + odds1\n",
    "            atariCnt += 1\n",
    "        pl.append(haitou-kane)\n",
    "#         print(graphDat[idx0])\n",
    "#     else:\n",
    "#         print(graphDat[idx0])\n",
    "print(len(graphDat),kane,haitou,(haitou/kane),kauCnt,atariCnt)  \n",
    "print(kagen,jougen)\n",
    "plt.plot(pl)"
   ]
  },
  {
   "cell_type": "code",
   "execution_count": null,
   "metadata": {
    "collapsed": true
   },
   "outputs": [],
   "source": [
    "graphDat = [sigmoid(np.dot(np.tanh(np.dot(rec,ww0)+bb0),ww1)+bb1) for rec in tInSet]\n",
    "tLabel = label[:nTest]\n",
    "kane=0\n",
    "cnt=0\n",
    "cntKachi=0\n",
    "atariRace=0\n",
    "kauGoukei=0\n",
    "hensen=[]\n",
    "puramai=[]\n",
    "kakeme=100\n",
    "cntMap={ idx:0 for idx in range(rate)}\n",
    "sakaime=15\n",
    "sakaime2=20\n",
    "# plt.figure(figsize=(20,60))\n",
    "dayCnt={race_id.split('-')[0]:0 for race_id in tLabel}\n",
    "for idx0 in range(len(graphDat)):\n",
    "    threashold=0.117\n",
    "    isKau=[]\n",
    "    for idx1 in range(len(graphDat[idx0])):\n",
    "        cnt=cnt+1\n",
    "        atariFlg=False\n",
    "#         print(graphDat[idx0][idx1])\n",
    "        if graphDat[idx0][idx1]>0.092:\n",
    "            dayCnt[tLabel[idx0].split('-')[0]] += 1\n",
    "            cur.execute(\"SELECT COUNT(*),MIN(ninki1),MAX(ninki1),MAX(atari) FROM odds_list_3t WHERE race_id='%s' AND odds1 BETWEEN 40 AND 50\" % (tLabel[idx0]))\n",
    "            [kau,ninki1_min,ninki1_max,atari]=cur.fetchone()\n",
    "            kauGoukei = kauGoukei + kau\n",
    "            kane = kane - ( kakeme * kau )\n",
    "#             plt.plot(graphDat[idx0])\n",
    "            if atari is not None and atari > 0:\n",
    "                atariFlg=True\n",
    "                cntKachi = cntKachi + 1\n",
    "                cur.execute(\"SELECT odds1 FROM odds_list_3t WHERE race_id='%s' AND atari=1\" % (tLabel[idx0]))\n",
    "                [odds1]=cur.fetchone()\n",
    "                kane = kane + ( kakeme * odds1 )\n",
    "                puramai.append( kakeme * odds1 )\n",
    "            else:\n",
    "                puramai.append(-kakeme * kau )\n",
    "            hensen.append(kane)\n",
    "            cntMap[idx1] = cntMap[idx1] + 1\n",
    "        if atariFlg:\n",
    "            atariRace+=1\n",
    "print([{race_id:dayCnt[race_id]} for race_id in sorted(dayCnt)])\n",
    "plt.plot(hensen,marker='o')\n",
    "print(cntMap)\n",
    "print(len(graphDat),cnt,atariRace,cntKachi,kauGoukei,kane,(kane/(kauGoukei*kakeme)))"
   ]
  },
  {
   "cell_type": "code",
   "execution_count": null,
   "metadata": {
    "collapsed": true
   },
   "outputs": [],
   "source": [
    "print(len(graphDat))\n",
    "race_id_set = [race_id for race_id in tInSet]\n",
    "for idx in range(len(race_id_set)):\n",
    "    ovr = 0\n",
    "    cnt = 0\n",
    "    print(tLabel[idx])\n",
    "    for odds1 in graphDat[idx]:\n",
    "        cnt = cnt + 1\n",
    "        if odds1 * ( N_ + 999) - N_ > 0 :\n",
    "            print('\\t',cnt,odds1 * ( N_ + 999) - N_ )\n",
    "            ovr = ovr + 1\n",
    "#     print(cnt)\n",
    "        "
   ]
  },
  {
   "cell_type": "code",
   "execution_count": null,
   "metadata": {
    "collapsed": true
   },
   "outputs": [],
   "source": [
    "# cur.execute(\"SELECT race_id,a.odds1,a.ninki1 FROM odds_list_3t a LEFT OUTER JOIN ( SELECT * FROM odds_list_3t WHERE atari ='1' ) b USING(race_id) WHERE b.ninki1 - a.ninki1 + 1 <= a.odds1-1 AND a.ninki1<=b.ninki1 ORDER BY race_id,a.ninki1\")\n",
    "cur.execute(\"SELECT race_id,TO_CHAR(odds1,'9999'),ninki1 FROM odds_list_3t WHERE atari=1\")\n",
    "cur.execute(\"SELECT map,POW(999,map/30.) AS av,COUNT(*) AS cnt,sum(odds1) AS su ,COUNT(*)/3360.*SUM(odds1)/COUNT(*) AS val FROM (SELECT race_id,ninki1,(LOG(999,odds1)*30)::INTEGER AS map,odds1 FROM odds_list_koushiki WHERE atari=1 ORDER BY race_id, ninki1 ) a GROUP BY map ORDER BY map\")\n",
    "bunpu = [rec[4] for rec in cur]\n",
    "plt.plot(bunpu)\n",
    "dic = collections.Counter(bunpu)\n",
    "# plt.plot([np.log(dic[key]) for key in dic])\n",
    "# [x,y]=np.array([[int(math.log(key,999)*30),dic[key]] for key in sorted(dic)]).T\n",
    "# print((dic))\n",
    "dic[' 1000'] = 0\n",
    "\n",
    "# [x,y]=np.array([[int(math.log(float(key),999)*30),dic[key]*float(key)] for key in sorted(dic)]).T\n",
    "count={idx:0 for idx in range(1,31)}\n",
    "for key in dic:\n",
    "    count[int(math.log(float(key),999)*30)]+=(dic[key])\n",
    "print(count)\n",
    "[x,y]=np.array([[int(key),count[key]] for key in sorted(count) ]).T\n",
    "    \n",
    "print(len(x))\n",
    "# plt.xscale(\"log\")\n",
    "# plt.yscale(\"log\")\n",
    "# plt.xlim(0,999)  # yを0-5000の範囲に限定\n",
    "plt.scatter(x,y)\n",
    "print(math.log(40,999)*30)\n",
    "\n"
   ]
  },
  {
   "cell_type": "code",
   "execution_count": 43,
   "metadata": {},
   "outputs": [
    {
     "name": "stdout",
     "output_type": "stream",
     "text": [
      "2018/07/10 03:03:37\n"
     ]
    }
   ],
   "source": [
    "# モデルのセーブ用ブロック（3層にしか対応してない）\n",
    "param = params[-1]['param']\n",
    "savedata={'ww0':param['ww0'], 'bb0':param['bb0'], 'ww1':param['ww1'], 'bb1':param['bb1']}\n",
    "s = shelve.open('./model/mm_20180709.db')\n",
    "try:\n",
    "    s['map'] = savedata\n",
    "finally:\n",
    "    s.close()\n",
    "print(datetime.now().strftime(\"%Y/%m/%d %H:%M:%S\"))"
   ]
  },
  {
   "cell_type": "code",
   "execution_count": 35,
   "metadata": {},
   "outputs": [
    {
     "name": "stdout",
     "output_type": "stream",
     "text": [
      "[1, 1, 1, 1, 1, 1, 1, 1, 1, 1, 1, 1, 1, 1, 1, 0.133, 0.133, 0.133, 0.133, 0.133, 0.133, 0.133, 0.133, 0.133, 0.133, 0.133, 0.133, 0.133, 0.133, 0.133]\n",
      "721 1666 97 8763 -215030.000000 -0.2453840009129293620906082392\n"
     ]
    },
    {
     "data": {
      "text/plain": [
       "[<matplotlib.lines.Line2D at 0x7f9e90d076d8>]"
      ]
     },
     "execution_count": 35,
     "metadata": {},
     "output_type": "execute_result"
    },
    {
     "data": {
      "image/png": "[encoded data removed]",
      "text/plain": [
       "<matplotlib.figure.Figure at 0x7f9e8adc85c0>"
      ]
     },
     "metadata": {},
     "output_type": "display_data"
    }
   ],
   "source": [
    "# s = shelve.open('./model/m80_5700_10.db')\n",
    "s = shelve.open('./model/20.db')\n",
    "try:\n",
    "    ld = s['map']\n",
    "finally:\n",
    "    s.close()\n",
    "\n",
    "graphDat = [sigmoid(np.dot(np.tanh(np.dot(rec[:240],ld['ww0'])+ld['bb0']),ld['ww1'])+ld['bb1']) for rec in tInSet]\n",
    "tLabel = label[:nTest]\n",
    "kane=0\n",
    "cnt=0\n",
    "cntKachi=0\n",
    "kauGoukei=0\n",
    "hensen=[]\n",
    "puramai=[]\n",
    "kakeme=100\n",
    "cntMap={ idx:0 for idx in range(rate)}\n",
    "sakaime=15\n",
    "# threashold=0.9\n",
    "threashold=0.133\n",
    "threashAry=[0.133 if idx >=15 else 1 for idx in range(rate)]\n",
    "# threashAry[16]=0.139\n",
    "# threashAry[17]=0.140\n",
    "# threashAry[18]=0.120\n",
    "# threashAry[19]=0.144\n",
    "# threashAry[20]=0.093\n",
    "# threashAry[21]=0.092\n",
    "# threashAry[22]=0.073\n",
    "# threashAry[23]=0.048\n",
    "# threashAry[24]=0.050\n",
    "# threashAry[25]=0.050\n",
    "# threashAry[26]=0.050\n",
    "# threashAry[27]=0.020\n",
    "# threashAry[28]=0.050\n",
    "# threashAry[29]=0.01\n",
    "print(threashAry)\n",
    "# plt.figure(figsize=(20,60))\n",
    "for idx0 in range(len(graphDat)):\n",
    "    for idx1 in range(len(graphDat[idx0])):\n",
    "        if graphDat[idx0][idx1] > threashAry[idx1] and idx1 < sakaime:\n",
    "            break\n",
    "        elif graphDat[idx0][idx1] > threashAry[idx1] and idx1 >= sakaime:\n",
    "#             plt.subplot(49,2,cntKachi+1)\n",
    "            cur.execute(\"SELECT COUNT(*),MAX(atari) FROM odds_list_3t WHERE race_id='%s' AND odds1 BETWEEN %f AND %f\" % (tLabel[idx0],math.pow(1000,(idx1+0)/float(rate)),math.pow(1000,(idx1+1)/float(rate))))\n",
    "            [kau,atari]=cur.fetchone()\n",
    "            kauGoukei = kauGoukei + kau\n",
    "            kane = kane - ( kakeme * kau )\n",
    "#             plt.plot(graphDat[idx0])\n",
    "            if atari is not None and atari > 0:\n",
    "                cntKachi = cntKachi + 1\n",
    "                cur.execute(\"SELECT odds1 FROM odds_list_3t WHERE race_id='%s' AND atari=1\" % (tLabel[idx0]))\n",
    "                [odds1]=cur.fetchone()\n",
    "                kane = kane + ( kakeme * odds1 )\n",
    "                puramai.append( kakeme * odds1 )\n",
    "            else:\n",
    "                puramai.append(-kakeme * kau )\n",
    "            hensen.append(kane)\n",
    "            cntMap[idx1] = cntMap[idx1] + 1\n",
    "            cnt = cnt + 1\n",
    "print(len(graphDat),cnt,cntKachi,kauGoukei,kane,(kane/(kauGoukei*kakeme)))\n",
    "plt.plot(hensen,marker='o')\n",
    "# plt.plot(puramai)\n",
    "# cntMap"
   ]
  },
  {
   "cell_type": "code",
   "execution_count": null,
   "metadata": {
    "collapsed": true
   },
   "outputs": [],
   "source": [
    "# なんかすごい重いのをやる\n",
    "cur.execute(\"SELECT race_id,odds1 FROM odds_list_3t ORDER BY race_id,ninki1\")\n",
    "dat={}\n",
    "datT={}\n",
    "cnt=0\n",
    "for [race_id,odds1] in cur:\n",
    "    if race_id not in dat:\n",
    "        cnt=0\n",
    "        ary=[]\n",
    "        dat[race_id]={}\n",
    "    ary.append(math.log(float(odds1),1000))\n",
    "    cnt+=1\n",
    "    if cnt == 120:\n",
    "        ary = np.array(ary)\n",
    "        norm = np.linalg.norm(ary)\n",
    "        dat[race_id]={'ary':ary,'norm':norm}\n",
    "        datT[race_id]={'ary':ary.T,'norm':norm}\n",
    "for race_id in sorted(dat):\n",
    "    cur.execute(\"SELECT odds1,ninki1,kumiban FROM odds_list_3t WHERE atari=1 AND race_id='%s'\" % (race_id))\n",
    "    [odds1,ninki1,kumiban]=cur.fetchone()\n",
    "    dat[race_id]['odds1']=math.log(float(odds1),1000)\n",
    "    dat[race_id]['ninki1']=int(ninki1)\n",
    "    dat[race_id]['kumiban']=kumiban\n",
    "    datT[race_id]['odds1']=math.log(float(odds1),1000)\n",
    "    datT[race_id]['ninki1']=int(ninki1)\n",
    "    datT[race_id]['kumiban']=kumiban\n",
    "print(len(dat),len(datT))\n",
    "cnt=0\n",
    "cnt0=0\n",
    "keyList=[key for key in sorted(datT)]\n",
    "for race_id in sorted(dat):\n",
    "    cnt0+=1\n",
    "    norm_0=dat[race_id]['norm']\n",
    "    odds1_0=dat[race_id]['odds1']\n",
    "    ninki1_0=dat[race_id]['ninki1']\n",
    "    kumiban_0=dat[race_id]['kumiban']\n",
    "    for race_id_t in keyList[cnt0:]:\n",
    "        norm_1=datT[race_id_t]['norm']\n",
    "        odds1_1=datT[race_id_t]['odds1']\n",
    "        ninki1_1=dat[race_id_t]['ninki1']\n",
    "        kumiban_1=datT[race_id_t]['kumiban']\n",
    "        dot=np.dot(dat[race_id]['ary'],datT[race_id_t]['ary'])\n",
    "        norm_dot=dot/norm_0/norm_1\n",
    "        cur.execute(\"INSERT INTO race_dot(t,race_id_0,race_id_1,norm_0,norm_1,norm_dot,dot,odds1_0,odds1_1,ninki1_0,ninki1_1,kumiban_0,kumiban_1)VALUES(1,'%s','%s',%f,%f,%f,%f,%f,%f,%d,%d,'%s','%s')\"%(race_id,race_id_t,norm_0,norm_1,norm_dot,dot,odds1_0,odds1_1,ninki1_0,ninki1_1,kumiban_0,kumiban_1))\n",
    "        cnt+=1\n",
    "        if cnt%10000==0:\n",
    "            print(datetime.now().strftime(\"%Y/%m/%d %H:%M:%S\"),cnt,race_id,race_id_t)\n",
    "            con.commit()       \n",
    "print(len(dat),len(datT))"
   ]
  },
  {
   "cell_type": "code",
   "execution_count": null,
   "metadata": {
    "collapsed": true
   },
   "outputs": [],
   "source": []
  },
  {
   "cell_type": "code",
   "execution_count": null,
   "metadata": {
    "collapsed": true
   },
   "outputs": [],
   "source": []
  },
  {
   "cell_type": "code",
   "execution_count": null,
   "metadata": {
    "collapsed": true
   },
   "outputs": [],
   "source": []
  },
  {
   "cell_type": "code",
   "execution_count": null,
   "metadata": {
    "collapsed": true
   },
   "outputs": [],
   "source": []
  },
  {
   "cell_type": "code",
   "execution_count": null,
   "metadata": {
    "collapsed": true
   },
   "outputs": [],
   "source": []
  },
  {
   "cell_type": "code",
   "execution_count": null,
   "metadata": {
    "collapsed": true
   },
   "outputs": [],
   "source": []
  },
  {
   "cell_type": "code",
   "execution_count": null,
   "metadata": {
    "collapsed": true
   },
   "outputs": [],
   "source": []
  },
  {
   "cell_type": "code",
   "execution_count": null,
   "metadata": {
    "collapsed": true
   },
   "outputs": [],
   "source": []
  },
  {
   "cell_type": "code",
   "execution_count": null,
   "metadata": {
    "collapsed": true
   },
   "outputs": [],
   "source": []
  },
  {
   "cell_type": "code",
   "execution_count": null,
   "metadata": {
    "collapsed": true
   },
   "outputs": [],
   "source": []
  },
  {
   "cell_type": "code",
   "execution_count": null,
   "metadata": {
    "collapsed": true
   },
   "outputs": [],
   "source": []
  },
  {
   "cell_type": "code",
   "execution_count": null,
   "metadata": {
    "collapsed": true
   },
   "outputs": [],
   "source": []
  },
  {
   "cell_type": "code",
   "execution_count": 15,
   "metadata": {},
   "outputs": [
    {
     "name": "stdout",
     "output_type": "stream",
     "text": [
      "2018/07/11 20:08:40 Fine  nData=12554 nTest=1394 nIn=1080 nOut=1\n"
     ]
    }
   ],
   "source": [
    "# 多層ニューラル\n",
    "nTest = int(len(datI)/10)\n",
    "nData = len(datI) - nTest\n",
    "dInSet  = datI[nTest:] # 入力データ\n",
    "dOutSet = datO[nTest:] # 出力データ\n",
    "tInSet  = datI[:nTest] # テスト用入力データ\n",
    "tOutSet = datO[:nTest] # テスト用出力データ\n",
    "tLabel = label[:nTest]\n",
    "nIn  = len(datI[0]) # 入力データ次元数\n",
    "nOut = len(datO[0]) # 出力データ次元数\n",
    "mult = np.array(dInSet).flatten().mean()\n",
    "\n",
    "# 中間層の次元数\n",
    "nMid = [nIn,20,20,20,nOut]\n",
    "rSeed = 5904\n",
    "nokosu_hiritsu = 1.0\n",
    "np.random.seed(rSeed)\n",
    "neural_layer = len(nMid)\n",
    "\n",
    "dIn  = tf.placeholder(tf.float32,[None,nIn ],name=\"input\")\n",
    "dOut = tf.placeholder(tf.float32,[None,nOut],name=\"output\")\n",
    "\n",
    "out = dIn\n",
    "for n in range(neural_layer-1):\n",
    "    # w = tf.Variable(tf.zeros([nMid[n], nMid[n+1]]))\n",
    "    # b = tf.Variable(tf.zeros([n+1]))\n",
    "    w = tf.Variable(tf.truncated_normal([nMid[n], nMid[n+1]],seed=np.random.randint(rSeed)))\n",
    "    b = tf.Variable(tf.truncated_normal([nMid[n+1]],seed=np.random.randint(rSeed)))\n",
    "    out = tf.nn.sigmoid(tf.matmul(out, w) + b )\n",
    "p = out\n",
    "\n",
    "# loss = -tf.reduce_sum(dOut*tf.log(p)+(1-dOut)*tf.log(1-p))\n",
    "# loss = tf.reduce_sum(tf.nn.sigmoid_cross_entropy_with_logits(labels=dOut, logits=p, name='xentropy'))\n",
    "# loss = -tf.reduce_sum(dOut*tf.log(tf.clip_by_value(p,1e-10,1.0))+(1-dOut)*tf.log(tf.clip_by_value(1-p,1e-10,1.0)))\n",
    "loss = -tf.reduce_sum((dOut-0) if p == 0 else ((1-dOut) if p==1 else(dOut*tf.log(p)+(1-dOut)*tf.log(1-p))))\n",
    "loss = -tf.reduce_sum(tf.nn.dropout(dOut*tf.log(tf.clip_by_value(p,1e-10,1.0))+(1-dOut)*tf.log(tf.clip_by_value(1-p,1e-10,1.0)),nokosu_hiritsu))\n",
    "# loss = tf.reduce_sum(tf.square(dOut-tf.nn.tanh(tf.matmul(tf.nn.tanh(tf.matmul(dIn,w0)+b0),w1)+b1)))\n",
    "# loss = -tf.reduce_sum(dOut*tf.log(tf.clip_by_value(p,1e-10,1.0))+(1-dOut)*tf.log(tf.clip_by_value(1-p,1e-10,1.0)))\n",
    "train_step = tf.train.AdamOptimizer().minimize(loss)\n",
    "\n",
    "correct_prediction = tf.equal(tf.sign(p-0.5), tf.sign(dOut-0.5))\n",
    "accuracy = tf.reduce_mean(tf.cast(correct_prediction, tf.float32))            \n",
    "\n",
    "sess = tf.Session()\n",
    "sess.run(tf.global_variables_initializer())\n",
    "[loss_val,test_val,params]  = [[],[],[]]\n",
    "i = 0\n",
    "print(datetime.now().strftime(\"%Y/%m/%d %H:%M:%S\") , 'Fine ', 'nData=%d nTest=%d nIn=%d nOut=%d'%(nData, nTest, nIn, nOut ))"
   ]
  },
  {
   "cell_type": "code",
   "execution_count": null,
   "metadata": {
    "collapsed": true
   },
   "outputs": [],
   "source": []
  }
 ],
 "metadata": {
  "kernelspec": {
   "display_name": "Python 3",
   "language": "python",
   "name": "python3"
  },
  "language_info": {
   "codemirror_mode": {
    "name": "ipython",
    "version": 3
   },
   "file_extension": ".py",
   "mimetype": "text/x-python",
   "name": "python",
   "nbconvert_exporter": "python",
   "pygments_lexer": "ipython3",
   "version": "3.5.3"
  }
 },
 "nbformat": 4,
 "nbformat_minor": 2
}
