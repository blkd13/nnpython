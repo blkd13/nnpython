{
 "cells": [
  {
   "cell_type": "code",
   "execution_count": 5,
   "metadata": {
    "collapsed": true
   },
   "outputs": [],
   "source": [
    "import matplotlib.pyplot as plt\n",
    "import math\n",
    "import numpy as np\n",
    "from datetime import datetime\n",
    "\n",
    "import pandas as pd\n",
    "from pandas import DataFrame,Series\n",
    "\n",
    "%matplotlib inline"
   ]
  },
  {
   "cell_type": "code",
   "execution_count": 16,
   "metadata": {},
   "outputs": [
    {
     "data": {
      "text/plain": [
       "[<matplotlib.lines.Line2D at 0x7f18cf1a9978>]"
      ]
     },
     "execution_count": 16,
     "metadata": {},
     "output_type": "execute_result"
    },
    {
     "data": {
      "image/png": "[encoded data removed]",
      "text/plain": [
       "<matplotlib.figure.Figure at 0x7f18cf170e10>"
      ]
     },
     "metadata": {},
     "output_type": "display_data"
    }
   ],
   "source": [
    "r = np.array([[idx0,math.log(1000./idx0,1000)] for idx0 in range(2,1000)]).T\n",
    "plt.yscale(\"linear\")\n",
    "plt.xscale(\"log\")\n",
    "plt.plot(r[0],r[1],c='blue')"
   ]
  },
  {
   "cell_type": "code",
   "execution_count": 30,
   "metadata": {},
   "outputs": [
    {
     "name": "stdout",
     "output_type": "stream",
     "text": [
      "0 0.0 1.0\n",
      "1 0.23025850929940456 1.2589254117941673\n",
      "2 0.4605170185988091 1.5848931924611134\n",
      "3 0.6907755278982137 1.9952623149688797\n",
      "4 0.9210340371976182 2.51188643150958\n",
      "5 1.1512925464970227 3.162277660168379\n",
      "6 1.3815510557964275 3.9810717055349727\n",
      "7 1.611809565095832 5.011872336272723\n",
      "8 1.8420680743952365 6.309573444801932\n",
      "9 2.072326583694641 7.943282347242814\n",
      "10 2.3025850929940455 9.999999999999998\n",
      "11 2.53284360229345 12.58925411794167\n",
      "12 2.763102111592855 15.848931924611136\n",
      "13 2.9933606208922594 19.952623149688797\n",
      "14 3.223619130191664 25.1188643150958\n",
      "15 3.4538776394910684 31.62277660168379\n",
      "16 3.684136148790473 39.81071705534972\n",
      "17 3.9143946580898774 50.118723362727216\n",
      "18 4.144653167389282 63.09573444801931\n",
      "19 4.374911676688686 79.43282347242813\n",
      "20 4.605170185988091 99.99999999999996\n",
      "21 4.835428695287495 125.89254117941665\n",
      "22 5.0656872045869 158.48931924611125\n",
      "23 5.295945713886305 199.52623149688802\n",
      "24 5.52620422318571 251.18864315095806\n",
      "25 5.756462732485114 316.22776601683796\n",
      "26 5.986721241784519 398.10717055349727\n",
      "27 6.216979751083923 501.1872336272723\n",
      "28 6.447238260383328 630.9573444801932\n",
      "29 6.677496769682732 794.3282347242814\n",
      "30 6.907755278982137 999.9999999999998\n"
     ]
    }
   ],
   "source": [
    "mx=math.log(1000)\n",
    "N=30\n",
    "for i in range(N+1):\n",
    "    print(i,(i*mx/N),math.exp(i*mx/N))\n"
   ]
  },
  {
   "cell_type": "code",
   "execution_count": null,
   "metadata": {
    "collapsed": true
   },
   "outputs": [],
   "source": [
    "len([ 0 for i in range(120) for j in range(120)])\n",
    "print('echo')"
   ]
  },
  {
   "cell_type": "code",
   "execution_count": 9,
   "metadata": {},
   "outputs": [
    {
     "name": "stdout",
     "output_type": "stream",
     "text": [
      "2018/07/06 23:36:54\n",
      "2018/07/06 23:36:57\n",
      "                race_id kumiban  atari  odds1  ninki1  odds1e\n",
      "0        20171112-01-01   1-2-3      0   85.0      28    85.0\n",
      "1        20171112-01-01   1-2-4      0   93.9      31    93.9\n",
      "2        20171112-01-01   1-2-5      0  186.7      47   186.7\n",
      "3        20171112-01-01   1-2-6      0  185.7      46   185.7\n",
      "4        20171112-01-01   1-3-2      0   81.1      26    81.1\n",
      "5        20171112-01-01   1-3-4      0   16.9       7    16.9\n",
      "6        20171112-01-01   1-3-5      0   56.2      22    56.2\n",
      "7        20171112-01-01   1-3-6      0   52.8      18    52.8\n",
      "8        20171112-01-01   1-4-2      0   55.3      21    55.3\n",
      "9        20171112-01-01   1-4-3      0   12.3       3    12.3\n",
      "10       20171112-01-01   1-4-5      0   13.8       4    13.8\n",
      "11       20171112-01-01   1-4-6      0   11.5       1    11.5\n",
      "12       20171112-01-01   1-5-2      0  265.3      59   265.3\n",
      "13       20171112-01-01   1-5-3      0  109.0      36   109.0\n",
      "14       20171112-01-01   1-5-4      0   46.2      15    46.2\n",
      "15       20171112-01-01   1-5-6      0   81.7      27    81.7\n",
      "16       20171112-01-01   1-6-2      0  260.1      56   260.1\n",
      "17       20171112-01-01   1-6-3      0   85.1      29    85.1\n",
      "18       20171112-01-01   1-6-4      0   38.6      13    38.6\n",
      "19       20171112-01-01   1-6-5      0  105.1      35   105.1\n",
      "20       20171112-01-01   2-1-3      0  348.2      69   348.2\n",
      "21       20171112-01-01   2-1-4      0  278.5      61   278.5\n",
      "22       20171112-01-01   2-1-5      0  454.8      75   454.8\n",
      "23       20171112-01-01   2-1-6      0  636.7      87   636.7\n",
      "24       20171112-01-01   2-3-1      0  548.0      81   548.0\n",
      "25       20171112-01-01   2-3-4      0  566.6      83   566.6\n",
      "26       20171112-01-01   2-3-5      0  903.5      97   903.5\n",
      "27       20171112-01-01   2-3-6      0  928.6     101   928.6\n",
      "28       20171112-01-01   2-4-1      0  331.0      65   331.0\n",
      "29       20171112-01-01   2-4-3      0  596.9      85   596.9\n",
      "...                 ...     ...    ...    ...     ...     ...\n",
      "3380370  20180702-24-12   5-3-4      0  999.0     120  1814.0\n",
      "3380371  20180702-24-12   5-3-6      0  872.4     110   872.4\n",
      "3380372  20180702-24-12   5-4-1      0  685.2     100   685.2\n",
      "3380373  20180702-24-12   5-4-2      0  790.3     107   790.3\n",
      "3380374  20180702-24-12   5-4-3      0  999.0     119  1754.0\n",
      "3380375  20180702-24-12   5-4-6      0  999.0     116  1247.0\n",
      "3380376  20180702-24-12   5-6-1      0  368.7      62   368.7\n",
      "3380377  20180702-24-12   5-6-2      0  546.7      91   546.7\n",
      "3380378  20180702-24-12   5-6-3      0  782.6     105   782.6\n",
      "3380379  20180702-24-12   5-6-4      0  933.6     112   933.6\n",
      "3380380  20180702-24-12   6-1-2      0   47.2      15    47.2\n",
      "3380381  20180702-24-12   6-1-3      1   57.5      20    57.5\n",
      "3380382  20180702-24-12   6-1-4      0  143.0      35   143.0\n",
      "3380383  20180702-24-12   6-1-5      0  123.3      33   123.3\n",
      "3380384  20180702-24-12   6-2-1      0   77.7      24    77.7\n",
      "3380385  20180702-24-12   6-2-3      0  127.8      34   127.8\n",
      "3380386  20180702-24-12   6-2-4      0  267.4      50   267.4\n",
      "3380387  20180702-24-12   6-2-5      0  234.7      45   234.7\n",
      "3380388  20180702-24-12   6-3-1      0  111.6      31   111.6\n",
      "3380389  20180702-24-12   6-3-2      0  153.6      38   153.6\n",
      "3380390  20180702-24-12   6-3-4      0  301.8      53   301.8\n",
      "3380391  20180702-24-12   6-3-5      0  326.4      56   326.4\n",
      "3380392  20180702-24-12   6-4-1      0  354.0      60   354.0\n",
      "3380393  20180702-24-12   6-4-2      0  460.1      75   460.1\n",
      "3380394  20180702-24-12   6-4-3      0  486.7      78   486.7\n",
      "3380395  20180702-24-12   6-4-5      0  528.6      85   528.6\n",
      "3380396  20180702-24-12   6-5-1      0  276.2      51   276.2\n",
      "3380397  20180702-24-12   6-5-2      0  339.6      58   339.6\n",
      "3380398  20180702-24-12   6-5-3      0  456.1      74   456.1\n",
      "3380399  20180702-24-12   6-5-4      0  562.1      92   562.1\n",
      "\n",
      "[3380400 rows x 6 columns]\n"
     ]
    }
   ],
   "source": [
    "print(datetime.now().strftime(\"%Y/%m/%d %H:%M:%S\"))\n",
    "dat = pd.read_csv('./odds_list_koushiki.csv', sep=',')\n",
    "print(datetime.now().strftime(\"%Y/%m/%d %H:%M:%S\"))\n",
    "print(dat)"
   ]
  },
  {
   "cell_type": "code",
   "execution_count": null,
   "metadata": {
    "collapsed": true
   },
   "outputs": [],
   "source": []
  }
 ],
 "metadata": {
  "kernelspec": {
   "display_name": "Python 3",
   "language": "python",
   "name": "python3"
  },
  "language_info": {
   "codemirror_mode": {
    "name": "ipython",
    "version": 3
   },
   "file_extension": ".py",
   "mimetype": "text/x-python",
   "name": "python",
   "nbconvert_exporter": "python",
   "pygments_lexer": "ipython3",
   "version": "3.5.3"
  }
 },
 "nbformat": 4,
 "nbformat_minor": 2
}
